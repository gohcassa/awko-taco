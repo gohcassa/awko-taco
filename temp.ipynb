{
 "cells": [
  {
   "cell_type": "code",
   "execution_count": 1,
   "metadata": {},
   "outputs": [],
   "source": [
    "import pandas as pd\n",
    "import tkinter.filedialog \n",
    "# Get file path \n",
    "path = tkinter.filedialog.askopenfilename()\n",
    "\n",
    "data = pd.read_csv(path)\n",
    "\n",
    "product_codes = []\n",
    "users = []\n",
    "for col in data:\n",
    "    for i in range(len(data)):\n",
    "        row = data.loc[i, col]\n",
    "        value = data.iloc[i, 0]\n",
    "        if row == 1:\n",
    "            product_codes.append(value)\n",
    "            users.append(col)\n",
    "\n",
    "user_purchases = pd.DataFrame({\"product_code\": product_codes, \"users\": users})\n",
    "\n",
    "export = tkinter.filedialog.asksaveasfilename(defaultextension = '.csv')\n",
    "user_purchases.to_csv(export, index = False, header = True)\n"
   ]
  },
  {
   "cell_type": "code",
   "execution_count": null,
   "metadata": {},
   "outputs": [],
   "source": []
  }
 ],
 "metadata": {
  "kernelspec": {
   "display_name": "Python 3",
   "language": "python",
   "name": "python3"
  },
  "language_info": {
   "codemirror_mode": {
    "name": "ipython",
    "version": 3
   },
   "file_extension": ".py",
   "mimetype": "text/x-python",
   "name": "python",
   "nbconvert_exporter": "python",
   "pygments_lexer": "ipython3",
   "version": "3.7.6"
  }
 },
 "nbformat": 4,
 "nbformat_minor": 4
}
